{
 "cells": [
  {
   "cell_type": "code",
   "execution_count": 1,
   "id": "c3cb0849",
   "metadata": {},
   "outputs": [],
   "source": [
    "import pandas as pd\n",
    "import numpy as np\n",
    "from pathlib import Path"
   ]
  },
  {
   "cell_type": "code",
   "execution_count": 2,
   "id": "f299c512",
   "metadata": {},
   "outputs": [
    {
     "name": "stdout",
     "output_type": "stream",
     "text": [
      " Volume in drive C is OS\n",
      " Volume Serial Number is 7CF0-0838\n",
      "\n",
      " Directory of C:\\Users\\guppa\\Dropbox (Partners HealthCare)\\research_bwh\\dynamical_rules\\RuleBasedDynamics\\dynrules\n",
      "\n",
      "07/20/2023  08:35 AM    <DIR>          .\n",
      "06/25/2023  08:06 PM    <DIR>          ..\n",
      "07/20/2023  08:35 AM    <DIR>          .ipynb_checkpoints\n",
      "06/23/2023  04:44 PM                 0 __init__.py\n",
      "07/18/2023  12:36 PM    <DIR>          __pycache__\n",
      "06/29/2023  10:46 AM             7,486 analysis.py\n",
      "07/18/2023  11:25 AM             7,862 analysis_glv.py\n",
      "06/30/2023  02:25 PM             6,760 analysis2.py\n",
      "07/20/2023  08:03 AM    <DIR>          CDIFF_DATA\n",
      "07/20/2023  08:34 AM             2,791 data.py\n",
      "06/25/2023  08:00 PM             2,696 data_old.py\n",
      "07/20/2023  08:35 AM                72 dev_methods.ipynb\n",
      "06/25/2023  07:37 PM    <DIR>          docs\n",
      "07/18/2023  11:18 AM    <DIR>          experiments\n",
      "07/18/2023  12:37 PM             7,688 glv_grad_match_model.py\n",
      "06/27/2023  08:07 PM            12,684 gradient_matching_model.py\n",
      "06/28/2023  06:28 PM            37,130 models.py\n",
      "07/19/2023  02:09 PM    <DIR>          PHAGE_DATA\n",
      "06/27/2023  07:00 PM            11,728 rule_visualization.py\n",
      "07/18/2023  12:47 PM            10,309 synthetic.py\n",
      "06/28/2023  07:39 PM    <DIR>          temp\n",
      "07/20/2023  08:19 AM    <DIR>          tutorials\n",
      "06/27/2023  07:33 PM             5,118 utils.py\n",
      "              13 File(s)        112,324 bytes\n",
      "              10 Dir(s)  19,916,550,144 bytes free\n"
     ]
    }
   ],
   "source": [
    "ls"
   ]
  },
  {
   "cell_type": "code",
   "execution_count": 4,
   "id": "062702b6",
   "metadata": {},
   "outputs": [],
   "source": [
    "cdiff_path = Path(\"./CDIFF_DATA/processed_data\")"
   ]
  },
  {
   "cell_type": "code",
   "execution_count": 5,
   "id": "3b347376",
   "metadata": {},
   "outputs": [],
   "source": [
    "counts = pd.read_csv(cdiff_path / \"reads.tsv\", sep=\"\\t\", index_col=0)"
   ]
  },
  {
   "cell_type": "code",
   "execution_count": 6,
   "id": "640b5c42",
   "metadata": {},
   "outputs": [],
   "source": [
    "taxonomy = pd.read_csv(cdiff_path / \"taxonomy.tsv\", sep=\"\\t\", index_col=0)"
   ]
  },
  {
   "cell_type": "code",
   "execution_count": 7,
   "id": "616d1c58",
   "metadata": {},
   "outputs": [],
   "source": [
    "metadata = pd.read_csv(cdiff_path / \"meta.tsv\", sep=\"\\t\", index_col=0)"
   ]
  },
  {
   "cell_type": "code",
   "execution_count": 8,
   "id": "49f59b6d",
   "metadata": {},
   "outputs": [],
   "source": [
    "qpcr = pd.read_csv(cdiff_path / \"qpcr.tsv\", sep=\"\\t\", index_col=0)"
   ]
  },
  {
   "cell_type": "code",
   "execution_count": 9,
   "id": "7050bbd8",
   "metadata": {},
   "outputs": [],
   "source": [
    "taxmeta = pd.read_csv(cdiff_path / \"taxa_meta.tsv\", sep=\"\\t\", index_col=0)"
   ]
  },
  {
   "cell_type": "code",
   "execution_count": null,
   "id": "e73d1cc4",
   "metadata": {},
   "outputs": [],
   "source": []
  },
  {
   "cell_type": "code",
   "execution_count": 13,
   "id": "bcce1b98",
   "metadata": {},
   "outputs": [],
   "source": [
    "# what about rescaling and filtering?\n",
    "\n",
    "# todo: add consistency filter -- do tonight along with phage data\n",
    "# add other datasets too; run tests to compare models**\n",
    "\n",
    "# removes otus -- finds tags to keep and edits internal data accordingly\n",
    "# needs to remove rows from counts, taxonomy, and taxmeta\n",
    "def top_abundance_filter(notus):\n",
    "    pass"
   ]
  },
  {
   "cell_type": "code",
   "execution_count": null,
   "id": "d720342b",
   "metadata": {},
   "outputs": [],
   "source": []
  },
  {
   "cell_type": "code",
   "execution_count": 10,
   "id": "a8e2fc40",
   "metadata": {},
   "outputs": [],
   "source": [
    "# this will be a method of dataset class\n",
    "def get_data_for_inference():\n",
    "    pass"
   ]
  },
  {
   "cell_type": "code",
   "execution_count": 126,
   "id": "d4a75ac6",
   "metadata": {},
   "outputs": [],
   "source": [
    "class Dataset:\n",
    "    def __init__(self, counts, qpcr, metadata, taxa_metadata, taxonomy):\n",
    "        self.counts = pd.read_csv(counts, sep=\"\\t\", index_col=0) \n",
    "        self.qpcr = pd.read_csv(qpcr, sep=\"\\t\", index_col=0)\n",
    "        self.metadata = pd.read_csv(metadata, sep=\"\\t\")\n",
    "        self.taxmeta = pd.read_csv(taxa_metadata, sep=\"\\t\", index_col=0)\n",
    "        self.taxonomy = pd.read_csv(taxonomy, sep=\"\\t\", index_col=0)\n",
    "    \n",
    "    def get_sampleID(self, t, s):\n",
    "        # SHOULD BE UNIQUE\n",
    "        return self.metadata.loc[(self.metadata.loc[:,\"time\"] == t) & (self.metadata.loc[:,\"subjectID\"] == s), \"sampleID\"].values[0]\n",
    "\n",
    "    def top_abundance_filter(self, notus):\n",
    "        \"\"\"\n",
    "        filter by total relative abundance, keep 'notus' otus\n",
    "        this is done 'in place' and modifies internal data\n",
    "        \"\"\"\n",
    "        # take top N (averaged over all time points and subjects)\n",
    "        ra = self.counts.sum(axis=1)/(self.counts.values.sum())\n",
    "        # TODO: move this comment to c. diff loading function\n",
    "        #* for c diff data top 14 agree with mdsine, can use top 13 if excluding hiranonis\n",
    "        index = ra.sort_values(ascending=False)[:notus].index\n",
    "        \n",
    "        # use index to subset counts, taxonomy, and taxmeta\n",
    "        self.counts = self.counts.loc[index,:]\n",
    "        self.taxonomy = self.taxonomy.loc[index,:]\n",
    "        self.taxmeta = self.taxmeta.loc[index,:]\n",
    "         \n",
    "    # TODO: add consistency filter\n",
    "    # TODO: add option to remove times here too... currently doing outside of this class\n",
    "    \n",
    "    def get_count_mass_data(self):\n",
    "        \"\"\"\n",
    "        get count and mass matrix data\n",
    "        \"\"\"\n",
    "        \n",
    "        subjs = self.metadata.loc[:,\"subjectID\"].unique()\n",
    "        times = np.sort(self.metadata.loc[:,\"time\"].unique())\n",
    "        ntime = len(times)\n",
    "        nsubj = len(subjs)\n",
    "        notus = self.taxonomy.shape[0]\n",
    "        taxa = list(self.taxonomy.index)\n",
    "        nrep = self.qpcr.shape[1]\n",
    "\n",
    "        ycounts = np.zeros((ntime, nsubj, notus))\n",
    "        wmass = np.zeros((nrep, ntime, nsubj))\n",
    "\n",
    "        for i,t in enumerate(times):\n",
    "            for j,s in enumerate(subjs):\n",
    "                sample = self.get_sampleID(t,s)\n",
    "                wmass[:,i,j] = self.qpcr.loc[sample,:].values\n",
    "                for oidx, taxon in enumerate(taxa):\n",
    "                    ycounts[i,j,oidx] = self.counts.loc[taxon,str(sample)]\n",
    "                # TODO: make all strings, not sure why columns strings, but qpcr index ints?\n",
    "        return times, ycounts, wmass #, taxa_type\n",
    "                            \n",
    "    def get_data_for_inference(self, rescale=1):\n",
    "        \"\"\"\n",
    "        return data matrices to use for model inference        \n",
    "        returns times, abundance data, time mask, and type info\n",
    "        \n",
    "        TODO: figure out... **take geomean of qpcr .... what does mdsine2 do, since it shows plots of data???\n",
    "        \"\"\"\n",
    "        EPS = 1e-8\n",
    "        times, ycounts, wmass = self.get_count_mass_data()\n",
    "        \n",
    "        wmass_geomean = np.exp(np.mean(np.log(wmass), axis=0))*rescale\n",
    "        xdata = (ycounts/(ycounts.sum(axis=2, keepdims=True)))*wmass_geomean[:,:,None]\n",
    "        ntime, nsubj, notu = xdata.shape\n",
    "\n",
    "        xlogdata = np.log(xdata + EPS)\n",
    "        \n",
    "        time_mask = self.taxmeta.time.values\n",
    "        type_names = self.taxmeta.type.values \n",
    "        # 0 == bacteria; 1 == phage\n",
    "        typeinfo = -1*np.ones(len(type_names), dtype=int)\n",
    "        typeinfo[type_names == 'bacteria'] = 0\n",
    "        typeinfo[type_names == 'phage'] = 1\n",
    "        \n",
    "        if (typeinfo == -1).any():\n",
    "            raise ValueError(\"invalid taxa type\")\n",
    "        \n",
    "        return times, xlogdata, time_mask, typeinfo"
   ]
  },
  {
   "cell_type": "code",
   "execution_count": 127,
   "id": "4c890b04",
   "metadata": {},
   "outputs": [],
   "source": [
    "dataset = Dataset(counts=cdiff_path / \"reads.tsv\",\n",
    "                 qpcr=cdiff_path / \"qpcr.tsv\",\n",
    "                 metadata=cdiff_path / \"meta.tsv\",\n",
    "                 taxa_metadata=cdiff_path / \"taxa_meta.tsv\",\n",
    "                 taxonomy=cdiff_path / \"taxonomy.tsv\")"
   ]
  },
  {
   "cell_type": "code",
   "execution_count": 128,
   "id": "0fc80532",
   "metadata": {},
   "outputs": [],
   "source": [
    "dataset.top_abundance_filter(13)"
   ]
  },
  {
   "cell_type": "code",
   "execution_count": 130,
   "id": "ee3117b8",
   "metadata": {},
   "outputs": [],
   "source": [
    "t, x, tm, tp = dataset.get_data_for_inference(rescale=1e-9)"
   ]
  },
  {
   "cell_type": "code",
   "execution_count": 131,
   "id": "44eac1ef",
   "metadata": {},
   "outputs": [
    {
     "data": {
      "text/plain": [
       "(26,)"
      ]
     },
     "execution_count": 131,
     "metadata": {},
     "output_type": "execute_result"
    }
   ],
   "source": [
    "t.shape"
   ]
  },
  {
   "cell_type": "code",
   "execution_count": 132,
   "id": "f3e026f6",
   "metadata": {},
   "outputs": [
    {
     "data": {
      "text/plain": [
       "(26, 5, 13)"
      ]
     },
     "execution_count": 132,
     "metadata": {},
     "output_type": "execute_result"
    }
   ],
   "source": [
    "x.shape"
   ]
  },
  {
   "cell_type": "code",
   "execution_count": 133,
   "id": "099f3bdc",
   "metadata": {},
   "outputs": [
    {
     "data": {
      "text/plain": [
       "array([ 0. ,  0. ,  0. ,  0. ,  0. ,  0. ,  0. ,  0. ,  0. ,  0. ,  0. ,\n",
       "       28.9,  0. ])"
      ]
     },
     "execution_count": 133,
     "metadata": {},
     "output_type": "execute_result"
    }
   ],
   "source": [
    "tm"
   ]
  },
  {
   "cell_type": "code",
   "execution_count": 134,
   "id": "b5ece85d",
   "metadata": {},
   "outputs": [
    {
     "data": {
      "text/plain": [
       "array([0, 0, 0, 0, 0, 0, 0, 0, 0, 0, 0, 0, 0])"
      ]
     },
     "execution_count": 134,
     "metadata": {},
     "output_type": "execute_result"
    }
   ],
   "source": [
    "tp"
   ]
  },
  {
   "cell_type": "code",
   "execution_count": 135,
   "id": "1c7b0297",
   "metadata": {},
   "outputs": [
    {
     "data": {
      "text/plain": [
       "array([ 0.75,  1.  ,  2.  ,  3.  ,  4.  ,  6.  ,  8.  , 10.  , 14.  ,\n",
       "       17.  , 21.  , 24.  , 28.  , 28.75, 29.  , 30.  , 31.  , 32.  ,\n",
       "       34.  , 36.  , 38.  , 42.  , 45.  , 49.  , 52.  , 56.  ])"
      ]
     },
     "execution_count": 135,
     "metadata": {},
     "output_type": "execute_result"
    }
   ],
   "source": [
    "t"
   ]
  },
  {
   "cell_type": "code",
   "execution_count": null,
   "id": "3af35bde",
   "metadata": {},
   "outputs": [],
   "source": []
  }
 ],
 "metadata": {
  "kernelspec": {
   "display_name": "Python [conda env:drules]",
   "language": "python",
   "name": "conda-env-drules-py"
  },
  "language_info": {
   "codemirror_mode": {
    "name": "ipython",
    "version": 3
   },
   "file_extension": ".py",
   "mimetype": "text/x-python",
   "name": "python",
   "nbconvert_exporter": "python",
   "pygments_lexer": "ipython3",
   "version": "3.8.16"
  }
 },
 "nbformat": 4,
 "nbformat_minor": 5
}
