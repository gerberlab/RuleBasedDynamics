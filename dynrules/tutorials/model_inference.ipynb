{
 "cells": [
  {
   "cell_type": "markdown",
   "id": "61ee171a",
   "metadata": {},
   "source": [
    "# Tutorial 2: Model inference and assessment"
   ]
  },
  {
   "cell_type": "code",
   "execution_count": null,
   "id": "a756ca89",
   "metadata": {},
   "outputs": [],
   "source": []
  }
 ],
 "metadata": {
  "kernelspec": {
   "display_name": "Python [conda env:drules]",
   "language": "python",
   "name": "conda-env-drules-py"
  },
  "language_info": {
   "codemirror_mode": {
    "name": "ipython",
    "version": 3
   },
   "file_extension": ".py",
   "mimetype": "text/x-python",
   "name": "python",
   "nbconvert_exporter": "python",
   "pygments_lexer": "ipython3",
   "version": "3.8.16"
  }
 },
 "nbformat": 4,
 "nbformat_minor": 5
}
