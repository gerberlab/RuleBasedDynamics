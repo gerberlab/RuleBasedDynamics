{
 "cells": [
  {
   "cell_type": "code",
   "execution_count": 5,
   "id": "773db774",
   "metadata": {},
   "outputs": [],
   "source": [
    "from dynrules.models import StochasticDynamics\n",
    "import matplotlib.pyplot as plt\n",
    "from dynrules.data import get_cdiff_processed_logdata\n",
    "import numpy as np\n",
    "import torch\n",
    "from pathlib import Path"
   ]
  },
  {
   "cell_type": "code",
   "execution_count": null,
   "id": "cb300a44",
   "metadata": {},
   "outputs": [],
   "source": []
  },
  {
   "cell_type": "code",
   "execution_count": 4,
   "id": "2d8adc29",
   "metadata": {},
   "outputs": [],
   "source": [
    "def get_data(t, xlog, tind_first, device):\n",
    "    # TODO: tind_first may not need to be part of data or create elsewhere?\n",
    "    num_time, num_subj, num_taxa = xlog.shape   \n",
    "\n",
    "    times = torch.from_numpy(t).to(torch.float)\n",
    "    xstd = torch.from_numpy(np.nanstd(xlog, axis=0)).to(torch.float)\n",
    "    xlog = torch.from_numpy(xlog).to(torch.float)\n",
    "    xmean = torch.nanmean(xlog, dim=0)\n",
    "\n",
    "    tstd, tmean = torch.std_mean(times)\n",
    "    xnorm = (xlog-xmean)/(xstd + 1e-6)\n",
    "    xnorm[torch.isnan(xnorm)] = 0      # TODO: need to think more about norm-representaiton and latent encoding for masked times...\n",
    "    tnorm = (times-tmean)/(tstd + 1e-6)\n",
    "\n",
    "    xnormflat = xnorm.reshape((num_time,-1))\n",
    "    norm_data = torch.cat([tnorm[:,None].T, xnormflat.T]).T\n",
    "    norm_data = norm_data.reshape((-1))\n",
    "\n",
    "    data = {'times': times.to(device),  'log_abundance': xlog.to(device), 'norm_data': norm_data.to(device), 'x_norm': xnorm.to(device), \\\n",
    "            'tind_first': tind_first}\n",
    "    return data\n"
   ]
  },
  {
   "cell_type": "markdown",
   "id": "a49b0900",
   "metadata": {},
   "source": [
    "## load C. diff dataset"
   ]
  },
  {
   "cell_type": "code",
   "execution_count": 3,
   "id": "3e7d3158",
   "metadata": {},
   "outputs": [],
   "source": [
    "t, xlog, mask_times, taxa = get_cdiff_processed_logdata(basepath=\"../CDIFF_DATA\")"
   ]
  },
  {
   "cell_type": "code",
   "execution_count": null,
   "id": "6792786d",
   "metadata": {},
   "outputs": [],
   "source": []
  },
  {
   "cell_type": "markdown",
   "id": "8ba0a21b",
   "metadata": {},
   "source": [
    "## setup model"
   ]
  },
  {
   "cell_type": "code",
   "execution_count": 6,
   "id": "d74eb668",
   "metadata": {},
   "outputs": [],
   "source": [
    "device = torch.device(\"cuda:0\" if torch.cuda.is_available() else \"cpu\")"
   ]
  },
  {
   "cell_type": "code",
   "execution_count": 7,
   "id": "b3588249",
   "metadata": {},
   "outputs": [],
   "source": [
    "basepath = Path(\"./\")"
   ]
  },
  {
   "cell_type": "code",
   "execution_count": 8,
   "id": "4449f732",
   "metadata": {},
   "outputs": [],
   "source": [
    "outpath = basepath / \"cdiff_model_fit\"\n",
    "outpath.mkdir(exist_ok=True, parents=True)"
   ]
  },
  {
   "cell_type": "code",
   "execution_count": 9,
   "id": "c1b83990",
   "metadata": {},
   "outputs": [],
   "source": [
    "xabs = np.exp(xlog)\n",
    "max_range = 1.1*np.nanmax(xabs, axis=(0,1)) # max over TxS; final shape O"
   ]
  },
  {
   "cell_type": "markdown",
   "id": "cd64f7b8",
   "metadata": {},
   "source": [
    "## TODO:\n",
    "- clean up pipeline and finish inference example\n",
    "- clean up post-processing and rule visualization\n",
    "- maybe add tutorial just for rule and posterior visualization"
   ]
  },
  {
   "cell_type": "code",
   "execution_count": null,
   "id": "a738a59f",
   "metadata": {},
   "outputs": [],
   "source": []
  }
 ],
 "metadata": {
  "kernelspec": {
   "display_name": "Python [conda env:drules]",
   "language": "python",
   "name": "conda-env-drules-py"
  },
  "language_info": {
   "codemirror_mode": {
    "name": "ipython",
    "version": 3
   },
   "file_extension": ".py",
   "mimetype": "text/x-python",
   "name": "python",
   "nbconvert_exporter": "python",
   "pygments_lexer": "ipython3",
   "version": "3.8.16"
  }
 },
 "nbformat": 4,
 "nbformat_minor": 5
}
